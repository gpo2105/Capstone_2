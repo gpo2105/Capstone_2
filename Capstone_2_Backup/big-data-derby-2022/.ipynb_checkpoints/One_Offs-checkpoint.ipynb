{
 "cells": [
  {
   "cell_type": "code",
   "execution_count": null,
   "id": "904ef003-1dab-4e8a-acc7-2c6956df5ffc",
   "metadata": {},
   "outputs": [],
   "source": [
    "import pandas as pd"
   ]
  },
  {
   "cell_type": "code",
   "execution_count": null,
   "id": "616bc47e-8948-4d36-9f6e-939948d17d2c",
   "metadata": {},
   "outputs": [],
   "source": [
    "entries=pd.read_csv('nyra_start_table.csv')\n",
    "races=pd.read_csv('nyra_race_table.csv')\n",
    "horses=pd.read_csv('horse_ids.csv')\n",
    "runs=pd.read_csv('nyra_tracking_table.csv')"
   ]
  },
  {
   "cell_type": "code",
   "execution_count": null,
   "id": "dd8389a5-26e0-42d2-b534-99181ab46b59",
   "metadata": {},
   "outputs": [],
   "source": [
    "horses.program_number=horses.program_number.str.ljust(3)"
   ]
  },
  {
   "cell_type": "code",
   "execution_count": null,
   "id": "684d4359-774e-4118-8a81-e0b205da3a52",
   "metadata": {},
   "outputs": [],
   "source": [
    "def id_horse(entry):\n",
    "    H=horses.loc[(horses.race_date==entry.race_date) & \n",
    "                 (horses.race==entry.race_number) &\n",
    "                 (horses.track_id==entry.track_id) &\n",
    "                 (horses.program_number==entry.program_number)\n",
    "                ]\n",
    "    return H.horse_id.values[0]"
   ]
  },
  {
   "cell_type": "code",
   "execution_count": null,
   "id": "939b0fc0-da0a-4459-88db-3df988ca52ad",
   "metadata": {},
   "outputs": [],
   "source": [
    "entries['horse_id']=None\n",
    "entries.horse_id=entries.apply(lambda e: id_horse(e),axis=1)\n",
    "entries.program_number=entries.program_number.str.replace(' ','-')\n",
    "entries.to_csv('nyra_start_table_new.csv')"
   ]
  },
  {
   "cell_type": "code",
   "execution_count": null,
   "id": "1ee73a31-b3ed-4a56-9462-a1b44a3713e0",
   "metadata": {},
   "outputs": [],
   "source": []
  },
  {
   "cell_type": "code",
   "execution_count": null,
   "id": "dd5567d2-a22b-4534-86c5-82fb59dde8ea",
   "metadata": {},
   "outputs": [],
   "source": []
  }
 ],
 "metadata": {
  "kernelspec": {
   "display_name": "Python 3.9.7 64-bit ('base': conda)",
   "language": "python",
   "name": "python397jvsc74a57bd040d3a090f54c6569ab1632332b64b2c03c39dcf918b08424e98f38b5ae0af88f"
  },
  "language_info": {
   "codemirror_mode": {
    "name": "ipython",
    "version": 3
   },
   "file_extension": ".py",
   "mimetype": "text/x-python",
   "name": "python",
   "nbconvert_exporter": "python",
   "pygments_lexer": "ipython3",
   "version": "3.9.7"
  }
 },
 "nbformat": 4,
 "nbformat_minor": 5
}
