{
 "cells": [
  {
   "cell_type": "code",
   "execution_count": 1,
   "id": "01fb1767-cdad-437e-a631-5395807d8e12",
   "metadata": {},
   "outputs": [],
   "source": [
    "import pandas as pd\n",
    "import numpy as np\n",
    "from matplotlib import pyplot as plt"
   ]
  },
  {
   "cell_type": "code",
   "execution_count": null,
   "id": "bc57b5d5-d9ff-4b40-a010-a3a4dce1f7f2",
   "metadata": {},
   "outputs": [],
   "source": [
    "entries=pd.read_csv('nyra_start_table_new.csv')\n",
    "races=pd.read_csv('nyra_race_table.csv')"
   ]
  },
  {
   "cell_type": "code",
   "execution_count": null,
   "id": "4fb70b74-73d9-46ec-960b-4e3987ff9494",
   "metadata": {},
   "outputs": [],
   "source": [
    "entries=entries.drop('Unnamed: 0',axis=1)"
   ]
  },
  {
   "cell_type": "markdown",
   "id": "2a88ab56-50e5-46bc-a58c-15da2ffacd51",
   "metadata": {
    "tags": []
   },
   "source": [
    "# Data Exploration"
   ]
  },
  {
   "cell_type": "markdown",
   "id": "1d127328-6c8e-4d3e-9cdf-b238dea7a8ae",
   "metadata": {
    "jp-MarkdownHeadingCollapsed": true,
    "tags": []
   },
   "source": [
    "## Entries Table"
   ]
  },
  {
   "cell_type": "code",
   "execution_count": null,
   "id": "6702f463-bc46-430d-ac06-007f62ac7379",
   "metadata": {},
   "outputs": [],
   "source": [
    "entries.shape"
   ]
  },
  {
   "cell_type": "code",
   "execution_count": null,
   "id": "6c02ded6-2b17-484f-b007-560aea84586f",
   "metadata": {},
   "outputs": [],
   "source": [
    "entries.columns"
   ]
  },
  {
   "cell_type": "code",
   "execution_count": null,
   "id": "a18a1f3f-0582-473e-bbf7-529534fd5a14",
   "metadata": {},
   "outputs": [],
   "source": [
    "entries"
   ]
  },
  {
   "cell_type": "markdown",
   "id": "cd67165e-a1b5-4d14-ae8b-74cc5693e52d",
   "metadata": {
    "jp-MarkdownHeadingCollapsed": true,
    "tags": []
   },
   "source": [
    "### Counts"
   ]
  },
  {
   "cell_type": "code",
   "execution_count": null,
   "id": "9a8981b6-a957-42b6-83c3-616c17f167e0",
   "metadata": {},
   "outputs": [],
   "source": [
    "entries.horse_id.value_counts()"
   ]
  },
  {
   "cell_type": "code",
   "execution_count": null,
   "id": "b28de46c-c566-4674-ba0f-a35914e8b09d",
   "metadata": {},
   "outputs": [],
   "source": [
    "entries.jockey.value_counts().head(25)"
   ]
  },
  {
   "cell_type": "markdown",
   "id": "3154d38b-6d9f-4800-a31b-37140a9fea3f",
   "metadata": {
    "tags": []
   },
   "source": [
    "#### by Pairings"
   ]
  },
  {
   "cell_type": "code",
   "execution_count": null,
   "id": "f3dd0cc6-473c-438c-9a3b-76884673ff48",
   "metadata": {},
   "outputs": [],
   "source": [
    "H_J_pairs=entries.groupby(by=['horse_id','jockey']).odds.count()\n",
    "H_J_pairs.sort_values(ascending=False).head(25)"
   ]
  },
  {
   "cell_type": "code",
   "execution_count": null,
   "id": "3f6e49ed-3104-408d-a1d8-3d8113425107",
   "metadata": {},
   "outputs": [],
   "source": [
    "H_by_J=pd.crosstab(entries.horse_id,entries.jockey)\n",
    "H_by_J"
   ]
  },
  {
   "cell_type": "code",
   "execution_count": null,
   "id": "796e8b66-6ecf-4357-be96-678299aeec8a",
   "metadata": {},
   "outputs": [],
   "source": [
    "H_by_J[H_by_J>5].count(axis=0).sort_values(ascending=False).head(25)"
   ]
  },
  {
   "cell_type": "code",
   "execution_count": null,
   "id": "889752fc-fcff-4ae9-b743-65b85f6924f6",
   "metadata": {},
   "outputs": [],
   "source": [
    "H_by_J[H_by_J>5].count(axis=1).sort_values(ascending=False).head(25)"
   ]
  },
  {
   "cell_type": "code",
   "execution_count": null,
   "id": "c9c3cca1-df7f-4d51-a3af-cd3baaa1ecee",
   "metadata": {},
   "outputs": [],
   "source": [
    "H_by_T=pd.crosstab(entries.horse_id,entries.track_id)\n",
    "H_by_T.transpose()"
   ]
  },
  {
   "cell_type": "code",
   "execution_count": null,
   "id": "d40e965a-c2c7-42bc-ae95-01050813f226",
   "metadata": {},
   "outputs": [],
   "source": [
    "J_by_T=pd.crosstab(entries.jockey,entries.track_id)\n",
    "J_by_T"
   ]
  },
  {
   "cell_type": "markdown",
   "id": "b81a575f-055a-49c1-bd51-e151c825c462",
   "metadata": {
    "tags": []
   },
   "source": [
    "#### by All Three"
   ]
  },
  {
   "cell_type": "code",
   "execution_count": null,
   "id": "2f064330-14ed-47d9-a972-ee797f3f2682",
   "metadata": {},
   "outputs": [],
   "source": [
    "H_by_J_by_T=pd.crosstab([entries.horse_id,entries.jockey],entries.track_id,margins=False)\n",
    "#H_by_J_by_T.sort_values([('program_number')],ascending=False)\n",
    "H_by_J_by_T"
   ]
  },
  {
   "cell_type": "markdown",
   "id": "15f5be1c-9653-4db0-ad29-bb6cb8b53118",
   "metadata": {
    "jp-MarkdownHeadingCollapsed": true,
    "tags": []
   },
   "source": [
    "### Finishes"
   ]
  },
  {
   "cell_type": "markdown",
   "id": "e006a13c-e617-4102-8997-420137a86d40",
   "metadata": {},
   "source": [
    "#### Counts"
   ]
  },
  {
   "cell_type": "code",
   "execution_count": null,
   "id": "c5a6fed1-4b2b-4021-bd28-3bf1d619c1c0",
   "metadata": {},
   "outputs": [],
   "source": [
    "H_by_Finish=pd.crosstab(entries.horse_id,entries.position_at_finish)\n",
    "H_by_Finish"
   ]
  },
  {
   "cell_type": "code",
   "execution_count": null,
   "id": "bc47f3be-4e73-4de0-8139-f73473fd455b",
   "metadata": {},
   "outputs": [],
   "source": [
    "J_by_Finish=pd.crosstab(entries.jockey,entries.position_at_finish)\n",
    "J_by_Finish"
   ]
  },
  {
   "cell_type": "markdown",
   "id": "137e0204-77d4-4ad3-981a-007afb7a9ead",
   "metadata": {},
   "source": [
    "#### Stats"
   ]
  },
  {
   "cell_type": "code",
   "execution_count": null,
   "id": "ad80eece-8f95-475d-ada6-58ac47354e97",
   "metadata": {},
   "outputs": [],
   "source": [
    "H_Finishes=entries.groupby(by=['horse_id']).position_at_finish.agg(['count','mean','std','max','min'])\n",
    "H_Finishes.sort_values('mean',ascending=True).head(15).style.format(precision=1)"
   ]
  },
  {
   "cell_type": "code",
   "execution_count": null,
   "id": "a2b3fef8-6c49-4783-9b60-b00a66918d3a",
   "metadata": {},
   "outputs": [],
   "source": [
    "J_Finishes=entries.groupby(by=['jockey']).position_at_finish.agg(['count','mean','std','max','min'])\n",
    "J_Finishes[J_Finishes['count']>50].sort_values('mean',ascending=True).style.format(precision=2)"
   ]
  },
  {
   "cell_type": "code",
   "execution_count": null,
   "id": "064e7426-bac7-495d-8149-d3329bb94cc7",
   "metadata": {},
   "outputs": [],
   "source": [
    "HbyJ_Finishes=entries.groupby(by=['horse_id','jockey']).position_at_finish.agg(['count','mean','std','max','min'])\n",
    "HbyJ_Finishes[HbyJ_Finishes['count']>5].sort_values('mean',ascending=True).style.format(precision=2)"
   ]
  },
  {
   "cell_type": "code",
   "execution_count": null,
   "id": "62923a42-5fc9-4e99-bd9d-eced991d4bd5",
   "metadata": {},
   "outputs": [],
   "source": [
    "HbyT_Finishes=entries.groupby(by=['horse_id','track_id']).position_at_finish.agg(['count','mean','std','max','min'])\n",
    "HbyT_Finishes[HbyT_Finishes['count']>5].sort_values('mean',ascending=True).style.format(precision=2)"
   ]
  },
  {
   "cell_type": "code",
   "execution_count": null,
   "id": "37e872fb-b911-442c-a60a-3e9b1ba59354",
   "metadata": {},
   "outputs": [],
   "source": [
    "JbyT_Finishes=entries.groupby(by=['jockey','track_id']).position_at_finish.agg(['count','mean','std','max','min'])\n",
    "JbyT_Finishes[JbyT_Finishes['count']>50].sort_values('mean',ascending=True).style.format(precision=2)"
   ]
  },
  {
   "cell_type": "code",
   "execution_count": null,
   "id": "deacbeb3-c3d8-461a-a840-eba681439196",
   "metadata": {},
   "outputs": [],
   "source": [
    "HbyJbyT_Finishes=entries.groupby(by=['horse_id','jockey','track_id']).position_at_finish.agg(['count','mean','std','max','min'])\n",
    "HbyJbyT_Finishes[HbyJbyT_Finishes['count']>5].sort_values('mean',ascending=True).style.format(precision=2)"
   ]
  },
  {
   "cell_type": "markdown",
   "id": "cfe58d8a-2803-446e-9db0-1d97cc4db661",
   "metadata": {
    "tags": []
   },
   "source": [
    "## Races Table"
   ]
  },
  {
   "cell_type": "code",
   "execution_count": null,
   "id": "4b6ca775-6bc1-4c07-a027-ccce42f3e358",
   "metadata": {},
   "outputs": [],
   "source": [
    "races.shape"
   ]
  },
  {
   "cell_type": "code",
   "execution_count": null,
   "id": "21b2e753-4c3d-4e9f-bcde-d7186e314578",
   "metadata": {},
   "outputs": [],
   "source": [
    "races.columns"
   ]
  },
  {
   "cell_type": "code",
   "execution_count": null,
   "id": "114e06b9-dc7a-47cb-b3e9-b3168ea257ef",
   "metadata": {},
   "outputs": [],
   "source": [
    "races"
   ]
  },
  {
   "cell_type": "code",
   "execution_count": null,
   "id": "765686a9-06f4-4b87-9aa7-56cbdf1eb786",
   "metadata": {},
   "outputs": [],
   "source": [
    "races.track_id.value_counts()"
   ]
  },
  {
   "cell_type": "code",
   "execution_count": null,
   "id": "73898969-fca8-42a6-9896-eeb04e38b1ae",
   "metadata": {},
   "outputs": [],
   "source": [
    "races.race_type.value_counts()"
   ]
  },
  {
   "cell_type": "code",
   "execution_count": null,
   "id": "f2a77d52-0799-45fc-8ccd-4f6bb874d070",
   "metadata": {},
   "outputs": [],
   "source": [
    "races.course_type.value_counts()"
   ]
  },
  {
   "cell_type": "code",
   "execution_count": null,
   "id": "d2dbed1c-fb1c-4a6e-b670-cc9b0a333991",
   "metadata": {},
   "outputs": [],
   "source": [
    "races.distance_id.value_counts()"
   ]
  },
  {
   "cell_type": "code",
   "execution_count": null,
   "id": "6236391e-1077-45ed-93f8-31e76b80c2b5",
   "metadata": {},
   "outputs": [],
   "source": [
    "races.track_condition.value_counts()"
   ]
  },
  {
   "cell_type": "code",
   "execution_count": null,
   "id": "1fb68a62-b28f-46e1-a0f8-dc28d7f469d7",
   "metadata": {},
   "outputs": [],
   "source": [
    "races.race_date.value_counts()"
   ]
  }
 ],
 "metadata": {
  "kernelspec": {
   "display_name": "Python 3.9.7 64-bit ('base': conda)",
   "language": "python",
   "name": "python397jvsc74a57bd040d3a090f54c6569ab1632332b64b2c03c39dcf918b08424e98f38b5ae0af88f"
  },
  "language_info": {
   "codemirror_mode": {
    "name": "ipython",
    "version": 3
   },
   "file_extension": ".py",
   "mimetype": "text/x-python",
   "name": "python",
   "nbconvert_exporter": "python",
   "pygments_lexer": "ipython3",
   "version": "3.9.7"
  },
  "toc-showcode": false,
  "toc-showtags": false
 },
 "nbformat": 4,
 "nbformat_minor": 5
}
