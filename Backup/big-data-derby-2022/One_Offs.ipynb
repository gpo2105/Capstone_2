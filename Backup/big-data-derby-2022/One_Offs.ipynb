{
 "cells": [
  {
   "cell_type": "code",
   "execution_count": 43,
   "id": "904ef003-1dab-4e8a-acc7-2c6956df5ffc",
   "metadata": {},
   "outputs": [],
   "source": [
    "import pandas as pd\n",
    "import itertools\n",
    "import geopy, shapely\n",
    "import matplotlib.pyplot as plt\n",
    "import matplotlib.animation as animation"
   ]
  },
  {
   "cell_type": "code",
   "execution_count": 31,
   "id": "616bc47e-8948-4d36-9f6e-939948d17d2c",
   "metadata": {},
   "outputs": [],
   "source": [
    "entries = pd.read_csv('nyra_start_table_new.csv')\n",
    "races = pd.read_csv('nyra_race_table.csv')\n",
    "tracking = pd.read_csv('nyra_tracking_table.csv')\n"
   ]
  },
  {
   "cell_type": "code",
   "execution_count": 32,
   "id": "36935106",
   "metadata": {},
   "outputs": [],
   "source": [
    "runs = tracking.groupby(['race_date','race_number','program_number'])"
   ]
  },
  {
   "cell_type": "code",
   "execution_count": 33,
   "id": "18613350",
   "metadata": {},
   "outputs": [],
   "source": [
    "runs = runs[['latitude','longitude','trakus_index']]"
   ]
  },
  {
   "cell_type": "code",
   "execution_count": 34,
   "id": "d6797554",
   "metadata": {},
   "outputs": [
    {
     "data": {
      "text/plain": [
       "14915"
      ]
     },
     "execution_count": 34,
     "metadata": {},
     "output_type": "execute_result"
    }
   ],
   "source": [
    "len(runs)"
   ]
  },
  {
   "cell_type": "code",
   "execution_count": 35,
   "id": "c734c496",
   "metadata": {},
   "outputs": [],
   "source": [
    "sequences = pd.DataFrame(columns=['race_data','race_number','program_number','running'])"
   ]
  },
  {
   "cell_type": "code",
   "execution_count": 36,
   "id": "af9a9055",
   "metadata": {},
   "outputs": [
    {
     "data": {
      "text/html": [
       "<div>\n",
       "<style scoped>\n",
       "    .dataframe tbody tr th:only-of-type {\n",
       "        vertical-align: middle;\n",
       "    }\n",
       "\n",
       "    .dataframe tbody tr th {\n",
       "        vertical-align: top;\n",
       "    }\n",
       "\n",
       "    .dataframe thead th {\n",
       "        text-align: right;\n",
       "    }\n",
       "</style>\n",
       "<table border=\"1\" class=\"dataframe\">\n",
       "  <thead>\n",
       "    <tr style=\"text-align: right;\">\n",
       "      <th></th>\n",
       "      <th>running</th>\n",
       "      <th>race_date</th>\n",
       "      <th>race_number</th>\n",
       "      <th>program_number</th>\n",
       "    </tr>\n",
       "  </thead>\n",
       "  <tbody>\n",
       "    <tr>\n",
       "      <th>0</th>\n",
       "      <td>latitude  longitude  trakus_index\n",
       "867...</td>\n",
       "      <td>2019-01-01</td>\n",
       "      <td>1</td>\n",
       "      <td>1</td>\n",
       "    </tr>\n",
       "    <tr>\n",
       "      <th>1</th>\n",
       "      <td>latitude  longitude  trakus_index\n",
       "11...</td>\n",
       "      <td>2019-01-01</td>\n",
       "      <td>1</td>\n",
       "      <td>2</td>\n",
       "    </tr>\n",
       "    <tr>\n",
       "      <th>2</th>\n",
       "      <td>latitude  longitude  trakus_index\n",
       "12...</td>\n",
       "      <td>2019-01-01</td>\n",
       "      <td>1</td>\n",
       "      <td>3</td>\n",
       "    </tr>\n",
       "    <tr>\n",
       "      <th>3</th>\n",
       "      <td>latitude  longitude  trakus_index\n",
       "20...</td>\n",
       "      <td>2019-01-01</td>\n",
       "      <td>1</td>\n",
       "      <td>4</td>\n",
       "    </tr>\n",
       "    <tr>\n",
       "      <th>4</th>\n",
       "      <td>latitude  longitude  trakus_index\n",
       "190...</td>\n",
       "      <td>2019-01-01</td>\n",
       "      <td>1</td>\n",
       "      <td>5</td>\n",
       "    </tr>\n",
       "    <tr>\n",
       "      <th>...</th>\n",
       "      <td>...</td>\n",
       "      <td>...</td>\n",
       "      <td>...</td>\n",
       "      <td>...</td>\n",
       "    </tr>\n",
       "    <tr>\n",
       "      <th>14910</th>\n",
       "      <td>latitude  longitude  trakus_index\n",
       "23...</td>\n",
       "      <td>2019-12-31</td>\n",
       "      <td>8</td>\n",
       "      <td>5</td>\n",
       "    </tr>\n",
       "    <tr>\n",
       "      <th>14911</th>\n",
       "      <td>latitude  longitude  trakus_index\n",
       "36...</td>\n",
       "      <td>2019-12-31</td>\n",
       "      <td>8</td>\n",
       "      <td>6</td>\n",
       "    </tr>\n",
       "    <tr>\n",
       "      <th>14912</th>\n",
       "      <td>latitude  longitude  trakus_index\n",
       "36...</td>\n",
       "      <td>2019-12-31</td>\n",
       "      <td>8</td>\n",
       "      <td>7</td>\n",
       "    </tr>\n",
       "    <tr>\n",
       "      <th>14913</th>\n",
       "      <td>latitude  longitude  trakus_index\n",
       "42...</td>\n",
       "      <td>2019-12-31</td>\n",
       "      <td>8</td>\n",
       "      <td>8</td>\n",
       "    </tr>\n",
       "    <tr>\n",
       "      <th>14914</th>\n",
       "      <td>latitude  longitude  trakus_index\n",
       "20...</td>\n",
       "      <td>2019-12-31</td>\n",
       "      <td>8</td>\n",
       "      <td>9</td>\n",
       "    </tr>\n",
       "  </tbody>\n",
       "</table>\n",
       "<p>14915 rows × 4 columns</p>\n",
       "</div>"
      ],
      "text/plain": [
       "                                                 running   race_date  \\\n",
       "0               latitude  longitude  trakus_index\n",
       "867...  2019-01-01   \n",
       "1                latitude  longitude  trakus_index\n",
       "11...  2019-01-01   \n",
       "2                latitude  longitude  trakus_index\n",
       "12...  2019-01-01   \n",
       "3                latitude  longitude  trakus_index\n",
       "20...  2019-01-01   \n",
       "4               latitude  longitude  trakus_index\n",
       "190...  2019-01-01   \n",
       "...                                                  ...         ...   \n",
       "14910            latitude  longitude  trakus_index\n",
       "23...  2019-12-31   \n",
       "14911            latitude  longitude  trakus_index\n",
       "36...  2019-12-31   \n",
       "14912            latitude  longitude  trakus_index\n",
       "36...  2019-12-31   \n",
       "14913            latitude  longitude  trakus_index\n",
       "42...  2019-12-31   \n",
       "14914            latitude  longitude  trakus_index\n",
       "20...  2019-12-31   \n",
       "\n",
       "       race_number program_number  \n",
       "0                1            1    \n",
       "1                1            2    \n",
       "2                1            3    \n",
       "3                1            4    \n",
       "4                1            5    \n",
       "...            ...            ...  \n",
       "14910            8            5    \n",
       "14911            8            6    \n",
       "14912            8            7    \n",
       "14913            8            8    \n",
       "14914            8            9    \n",
       "\n",
       "[14915 rows x 4 columns]"
      ]
     },
     "execution_count": 36,
     "metadata": {},
     "output_type": "execute_result"
    }
   ],
   "source": [
    "frame = pd.DataFrame(runs,columns=['race_data','running'])\n",
    "frame['race_date'] = frame['race_data'].apply(lambda r:r[0])\n",
    "frame['race_number'] = frame['race_data'].apply(lambda r:r[1])\n",
    "frame['program_number'] = frame['race_data'].apply(lambda r:r[2])\n",
    "frame.drop(['race_data'],axis=1,inplace=True)\n",
    "frame"
   ]
  },
  {
   "cell_type": "code",
   "execution_count": null,
   "id": "82fb28e3",
   "metadata": {},
   "outputs": [],
   "source": []
  },
  {
   "cell_type": "code",
   "execution_count": 75,
   "id": "24d7e30b",
   "metadata": {},
   "outputs": [
    {
     "data": {
      "text/plain": [
       "race_date   race_number\n",
       "2019-11-15  5              14\n",
       "2019-07-06  9              14\n",
       "2019-12-21  6              13\n",
       "2019-12-28  8              13\n",
       "2019-11-11  7              13\n",
       "                           ..\n",
       "2019-06-21  6               3\n",
       "            4               3\n",
       "2019-06-16  3               3\n",
       "2019-07-19  9               3\n",
       "2019-07-11  10              3\n",
       "Name: count, Length: 2000, dtype: int64"
      ]
     },
     "execution_count": 75,
     "metadata": {},
     "output_type": "execute_result"
    }
   ],
   "source": [
    "frame[['race_date','race_number']].value_counts()"
   ]
  },
  {
   "cell_type": "code",
   "execution_count": 81,
   "id": "cc9ce6b6",
   "metadata": {},
   "outputs": [
    {
     "name": "stderr",
     "output_type": "stream",
     "text": [
      "/var/folders/7r/r2s5qqq505q1dy3w3pxj6rnc0000gn/T/ipykernel_7935/1584052280.py:1: FutureWarning: Series.__getitem__ treating keys as positions is deprecated. In a future version, integer keys will always be treated as labels (consistent with DataFrame behavior). To access a value by position, use `ser.iloc[pos]`\n",
      "  frame.iloc[0][3]\n"
     ]
    },
    {
     "data": {
      "text/plain": [
       "'1  '"
      ]
     },
     "execution_count": 81,
     "metadata": {},
     "output_type": "execute_result"
    }
   ],
   "source": [
    "frame.iloc[0][3]"
   ]
  },
  {
   "cell_type": "code",
   "execution_count": 73,
   "id": "1edf90d4",
   "metadata": {},
   "outputs": [
    {
     "name": "stderr",
     "output_type": "stream",
     "text": [
      "/var/folders/7r/r2s5qqq505q1dy3w3pxj6rnc0000gn/T/ipykernel_7935/1187318306.py:1: FutureWarning: Series.__getitem__ treating keys as positions is deprecated. In a future version, integer keys will always be treated as labels (consistent with DataFrame behavior). To access a value by position, use `ser.iloc[pos]`\n",
      "  analyses =frame.iloc[0][0]\n"
     ]
    },
    {
     "data": {
      "text/html": [
       "<div>\n",
       "<style scoped>\n",
       "    .dataframe tbody tr th:only-of-type {\n",
       "        vertical-align: middle;\n",
       "    }\n",
       "\n",
       "    .dataframe tbody tr th {\n",
       "        vertical-align: top;\n",
       "    }\n",
       "\n",
       "    .dataframe thead th {\n",
       "        text-align: right;\n",
       "    }\n",
       "</style>\n",
       "<table border=\"1\" class=\"dataframe\">\n",
       "  <thead>\n",
       "    <tr style=\"text-align: right;\">\n",
       "      <th></th>\n",
       "      <th>latitude</th>\n",
       "      <th>longitude</th>\n",
       "      <th>trakus_index</th>\n",
       "    </tr>\n",
       "  </thead>\n",
       "  <tbody>\n",
       "    <tr>\n",
       "      <th>867100</th>\n",
       "      <td>40.669564</td>\n",
       "      <td>-73.829133</td>\n",
       "      <td>11</td>\n",
       "    </tr>\n",
       "    <tr>\n",
       "      <th>867101</th>\n",
       "      <td>40.669594</td>\n",
       "      <td>-73.829119</td>\n",
       "      <td>12</td>\n",
       "    </tr>\n",
       "    <tr>\n",
       "      <th>867102</th>\n",
       "      <td>40.669625</td>\n",
       "      <td>-73.829105</td>\n",
       "      <td>13</td>\n",
       "    </tr>\n",
       "    <tr>\n",
       "      <th>867103</th>\n",
       "      <td>40.669657</td>\n",
       "      <td>-73.829090</td>\n",
       "      <td>14</td>\n",
       "    </tr>\n",
       "    <tr>\n",
       "      <th>867104</th>\n",
       "      <td>40.669690</td>\n",
       "      <td>-73.829076</td>\n",
       "      <td>15</td>\n",
       "    </tr>\n",
       "    <tr>\n",
       "      <th>...</th>\n",
       "      <td>...</td>\n",
       "      <td>...</td>\n",
       "      <td>...</td>\n",
       "    </tr>\n",
       "    <tr>\n",
       "      <th>867411</th>\n",
       "      <td>40.669795</td>\n",
       "      <td>-73.829029</td>\n",
       "      <td>18</td>\n",
       "    </tr>\n",
       "    <tr>\n",
       "      <th>867412</th>\n",
       "      <td>40.669832</td>\n",
       "      <td>-73.829012</td>\n",
       "      <td>19</td>\n",
       "    </tr>\n",
       "    <tr>\n",
       "      <th>867413</th>\n",
       "      <td>40.669870</td>\n",
       "      <td>-73.828995</td>\n",
       "      <td>20</td>\n",
       "    </tr>\n",
       "    <tr>\n",
       "      <th>867414</th>\n",
       "      <td>40.669909</td>\n",
       "      <td>-73.828978</td>\n",
       "      <td>21</td>\n",
       "    </tr>\n",
       "    <tr>\n",
       "      <th>867415</th>\n",
       "      <td>40.669947</td>\n",
       "      <td>-73.828961</td>\n",
       "      <td>22</td>\n",
       "    </tr>\n",
       "  </tbody>\n",
       "</table>\n",
       "<p>316 rows × 3 columns</p>\n",
       "</div>"
      ],
      "text/plain": [
       "         latitude  longitude  trakus_index\n",
       "867100  40.669564 -73.829133            11\n",
       "867101  40.669594 -73.829119            12\n",
       "867102  40.669625 -73.829105            13\n",
       "867103  40.669657 -73.829090            14\n",
       "867104  40.669690 -73.829076            15\n",
       "...           ...        ...           ...\n",
       "867411  40.669795 -73.829029            18\n",
       "867412  40.669832 -73.829012            19\n",
       "867413  40.669870 -73.828995            20\n",
       "867414  40.669909 -73.828978            21\n",
       "867415  40.669947 -73.828961            22\n",
       "\n",
       "[316 rows x 3 columns]"
      ]
     },
     "execution_count": 73,
     "metadata": {},
     "output_type": "execute_result"
    }
   ],
   "source": [
    "analyses =frame.iloc[0][0]\n",
    "analyses"
   ]
  },
  {
   "cell_type": "code",
   "execution_count": null,
   "id": "1d4823ce",
   "metadata": {},
   "outputs": [
    {
     "data": {
      "text/plain": [
       "<Figure size 640x480 with 0 Axes>"
      ]
     },
     "metadata": {},
     "output_type": "display_data"
    },
    {
     "data": {
      "image/png": "[encoded data removed]",
      "text/plain": [
       "<Figure size 640x480 with 1 Axes>"
      ]
     },
     "metadata": {},
     "output_type": "display_data"
    }
   ],
   "source": [
    "plt.ioff();\n",
    "plt.tight_layout()\n",
    "fig, ax = plt.subplots();\n",
    "ax.set_axis_off()\n",
    "\n",
    "xmin = analyses.latitude.min() - 0.0005\n",
    "xmax = analyses.latitude.max() + 0.0005\n",
    "ymin = analyses.longitude.min() - 0.0005\n",
    "ymax = analyses.longitude.max() - 0.0005\n",
    "\n",
    "stop = analyses['trakus_index'].max()\n",
    "\n",
    "ax.set_xlim(xmin,xmax)\n",
    "ax.set_ylim(ymin,ymax)\n",
    "xdata = [h for h in analyses.latitude]\n",
    "ydata = [h for h in analyses.longitude]\n",
    "plt.scatter(xdata,ydata)\n",
    "plt.show()"
   ]
  },
  {
   "cell_type": "code",
   "execution_count": 51,
   "id": "437bc5a2",
   "metadata": {},
   "outputs": [
    {
     "ename": "AttributeError",
     "evalue": "'numpy.ndarray' object has no attribute 'latitude'",
     "output_type": "error",
     "traceback": [
      "\u001b[0;31m---------------------------------------------------------------------------\u001b[0m",
      "\u001b[0;31mAttributeError\u001b[0m                            Traceback (most recent call last)",
      "Cell \u001b[0;32mIn[51], line 6\u001b[0m\n\u001b[1;32m      4\u001b[0m ax\u001b[38;5;241m.\u001b[39mset_axis_off()\n\u001b[1;32m      5\u001b[0m lines \u001b[38;5;241m=\u001b[39m {h:ax\u001b[38;5;241m.\u001b[39mplot([], [],lw\u001b[38;5;241m=\u001b[39m\u001b[38;5;241m.5\u001b[39m)[\u001b[38;5;241m0\u001b[39m] \u001b[38;5;28;01mfor\u001b[39;00m h \u001b[38;5;129;01min\u001b[39;00m analyses};\n\u001b[0;32m----> 6\u001b[0m xmin\u001b[38;5;241m=\u001b[39m\u001b[38;5;28mmin\u001b[39m([h\u001b[38;5;241m.\u001b[39mlatitude\u001b[38;5;241m.\u001b[39mmin()\u001b[38;5;241m-\u001b[39m\u001b[38;5;241m0.0005\u001b[39m \u001b[38;5;28;01mfor\u001b[39;00m h \u001b[38;5;129;01min\u001b[39;00m analyses\u001b[38;5;241m.\u001b[39mvalues])\n\u001b[1;32m      7\u001b[0m xmax\u001b[38;5;241m=\u001b[39m\u001b[38;5;28mmax\u001b[39m([h\u001b[38;5;241m.\u001b[39mlatitude\u001b[38;5;241m.\u001b[39mmax()\u001b[38;5;241m+\u001b[39m\u001b[38;5;241m0.0005\u001b[39m \u001b[38;5;28;01mfor\u001b[39;00m h \u001b[38;5;129;01min\u001b[39;00m analyses\u001b[38;5;241m.\u001b[39mvalues])\n\u001b[1;32m      9\u001b[0m ymin\u001b[38;5;241m=\u001b[39m\u001b[38;5;28mmin\u001b[39m([h\u001b[38;5;241m.\u001b[39mlongitude\u001b[38;5;241m.\u001b[39mmin()\u001b[38;5;241m-\u001b[39m\u001b[38;5;241m0.0005\u001b[39m \u001b[38;5;28;01mfor\u001b[39;00m h \u001b[38;5;129;01min\u001b[39;00m analyses\u001b[38;5;241m.\u001b[39mvalues()])\n",
      "\u001b[0;31mAttributeError\u001b[0m: 'numpy.ndarray' object has no attribute 'latitude'"
     ]
    }
   ],
   "source": [
    "plt.ioff();\n",
    "plt.tight_layout()\n",
    "fig, ax = plt.subplots();\n",
    "ax.set_axis_off()\n",
    "lines = {h:ax.plot([], [],lw=.5)[0] for h in analyses};\n",
    "xmin=min([h.latitude.min()-0.0005 for h in analyses.values])\n",
    "xmax=max([h.latitude.max()+0.0005 for h in analyses.values])\n",
    "\n",
    "ymin=min([h.longitude.min()-0.0005 for h in analyses.values()])\n",
    "ymax=max([h.longitude.max()+0.0005 for h in analyses.values()])\n",
    "\n",
    "T=max([h['time (s)'].count() for h in analyses.values()])\n",
    "\n",
    "ax.set_xlim(xmin,xmax)\n",
    "ax.set_ylim(ymin,ymax)\n",
    "xdata = {h:[] for h in analyses.keys()}\n",
    "ydata = {h:[] for h in analyses.keys()}\n",
    "plt.ion();"
   ]
  },
  {
   "cell_type": "code",
   "execution_count": null,
   "id": "f4f4e144",
   "metadata": {},
   "outputs": [
    {
     "ename": "AttributeError",
     "evalue": "'numpy.ndarray' object has no attribute 'latitude'",
     "output_type": "error",
     "traceback": [
      "\u001b[0;31m---------------------------------------------------------------------------\u001b[0m",
      "\u001b[0;31mAttributeError\u001b[0m                            Traceback (most recent call last)",
      "Cell \u001b[0;32mIn[67], line 6\u001b[0m\n\u001b[1;32m      4\u001b[0m ax\u001b[38;5;241m.\u001b[39mset_axis_off()\n\u001b[1;32m      5\u001b[0m lines \u001b[38;5;241m=\u001b[39m {h:ax\u001b[38;5;241m.\u001b[39mplot([], [],lw\u001b[38;5;241m=\u001b[39m\u001b[38;5;241m.5\u001b[39m)[\u001b[38;5;241m0\u001b[39m] \u001b[38;5;28;01mfor\u001b[39;00m h \u001b[38;5;129;01min\u001b[39;00m analyses};\n\u001b[0;32m----> 6\u001b[0m xmin\u001b[38;5;241m=\u001b[39m\u001b[38;5;28mmin\u001b[39m([h\u001b[38;5;241m.\u001b[39mlatitude\u001b[38;5;241m.\u001b[39mmin()\u001b[38;5;241m-\u001b[39m\u001b[38;5;241m0.0005\u001b[39m \u001b[38;5;28;01mfor\u001b[39;00m h \u001b[38;5;129;01min\u001b[39;00m analyses\u001b[38;5;241m.\u001b[39mvalues])\n\u001b[1;32m      7\u001b[0m xmax\u001b[38;5;241m=\u001b[39m\u001b[38;5;28mmax\u001b[39m([h\u001b[38;5;241m.\u001b[39mlatitude\u001b[38;5;241m.\u001b[39mmax()\u001b[38;5;241m+\u001b[39m\u001b[38;5;241m0.0005\u001b[39m \u001b[38;5;28;01mfor\u001b[39;00m h \u001b[38;5;129;01min\u001b[39;00m analyses\u001b[38;5;241m.\u001b[39mvalues])\n\u001b[1;32m      9\u001b[0m ymin\u001b[38;5;241m=\u001b[39m\u001b[38;5;28mmin\u001b[39m([h\u001b[38;5;241m.\u001b[39mlongitude\u001b[38;5;241m.\u001b[39mmin()\u001b[38;5;241m-\u001b[39m\u001b[38;5;241m0.0005\u001b[39m \u001b[38;5;28;01mfor\u001b[39;00m h \u001b[38;5;129;01min\u001b[39;00m analyses\u001b[38;5;241m.\u001b[39mvalues()])\n",
      "\u001b[0;31mAttributeError\u001b[0m: 'numpy.ndarray' object has no attribute 'latitude'"
     ]
    }
   ],
   "source": []
  },
  {
   "cell_type": "code",
   "execution_count": null,
   "id": "2549c405",
   "metadata": {},
   "outputs": [],
   "source": [
    "tracking.program_number.value_counts()"
   ]
  },
  {
   "cell_type": "code",
   "execution_count": null,
   "id": "62f10641",
   "metadata": {},
   "outputs": [],
   "source": [
    "tracking.race_number.value_counts()"
   ]
  },
  {
   "cell_type": "code",
   "execution_count": null,
   "id": "47ab2b59",
   "metadata": {},
   "outputs": [],
   "source": [
    "tracking[(tracking['race_number']==9) & (tracking['program_number']==6)]"
   ]
  },
  {
   "cell_type": "code",
   "execution_count": null,
   "id": "f5040d26",
   "metadata": {},
   "outputs": [],
   "source": [
    "get_run('2019-01-01',9,6)"
   ]
  },
  {
   "cell_type": "code",
   "execution_count": null,
   "id": "dd8389a5-26e0-42d2-b534-99181ab46b59",
   "metadata": {},
   "outputs": [],
   "source": [
    "horses.program_number=horses.program_number.str.ljust(3)"
   ]
  },
  {
   "cell_type": "code",
   "execution_count": null,
   "id": "684d4359-774e-4118-8a81-e0b205da3a52",
   "metadata": {},
   "outputs": [],
   "source": [
    "def id_horse(entry):\n",
    "    H=horses.loc[(horses.race_date==entry.race_date) & \n",
    "                 (horses.race==entry.race_number) &\n",
    "                 (horses.track_id==entry.track_id) &\n",
    "                 (horses.program_number==entry.program_number)\n",
    "                ]\n",
    "    return H.horse_id.values[0]"
   ]
  },
  {
   "cell_type": "code",
   "execution_count": null,
   "id": "939b0fc0-da0a-4459-88db-3df988ca52ad",
   "metadata": {},
   "outputs": [],
   "source": [
    "entries['horse_id']=None\n",
    "entries.horse_id=entries.apply(lambda e: id_horse(e),axis=1)\n",
    "entries.program_number=entries.program_number.str.replace(' ','-')\n",
    "entries.to_csv('nyra_start_table_new.csv')"
   ]
  },
  {
   "cell_type": "code",
   "execution_count": null,
   "id": "1ee73a31-b3ed-4a56-9462-a1b44a3713e0",
   "metadata": {},
   "outputs": [],
   "source": [
    "def get_run(race_date,race_id,horse_id):\n",
    "    run=tracking[(tracking.race_date==race_date)\n",
    "           & (tracking.program_number==horse_id) \n",
    "           & (tracking.race_number==race_id)]\n",
    "    run=run.sort_values('trakus_index')\n",
    "    run['gps']=run.apply(lambda r:(r.latitude,r.longitude),axis=1)\n",
    "    track=run.track_id.values[0]\n",
    "    return track,run[['trakus_index','gps']]\n",
    "def get_race(race_date,race_id):\n",
    "    runs=tracking[(tracking.race_date==race_date) \n",
    "            & (tracking.race_number==race_id)].copy()\n",
    "    runs['gps']=runs.apply(lambda r:(r.latitude,r.longitude),axis=1)\n",
    "    runs=runs[['program_number','trakus_index','gps']].sort_values('trakus_index')\n",
    "    return runs.groupby('program_number')"
   ]
  },
  {
   "cell_type": "code",
   "execution_count": null,
   "id": "dd5567d2-a22b-4534-86c5-82fb59dde8ea",
   "metadata": {},
   "outputs": [],
   "source": [
    "race_dates = runs['race_date'].unique()\n",
    "race_"
   ]
  },
  {
   "cell_type": "code",
   "execution_count": null,
   "id": "a3cf3369",
   "metadata": {},
   "outputs": [],
   "source": []
  }
 ],
 "metadata": {
  "kernelspec": {
   "display_name": "base",
   "language": "python",
   "name": "python3"
  },
  "language_info": {
   "codemirror_mode": {
    "name": "ipython",
    "version": 3
   },
   "file_extension": ".py",
   "mimetype": "text/x-python",
   "name": "python",
   "nbconvert_exporter": "python",
   "pygments_lexer": "ipython3",
   "version": "3.12.7"
  }
 },
 "nbformat": 4,
 "nbformat_minor": 5
}
